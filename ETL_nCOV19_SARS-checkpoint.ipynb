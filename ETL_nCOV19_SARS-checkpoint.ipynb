{
 "cells": [
  {
   "cell_type": "code",
   "execution_count": null,
   "metadata": {},
   "outputs": [],
   "source": [
    "# Dependencies; add others as needed\n",
    "import warnings\n",
    "warnings.filterwarnings(\"ignore\")\n",
    "import pycountry # please install this dependency\n",
    "import country_converter as coco # please install this dependency\n",
    "import pandas as pd"
   ]
  },
  {
   "cell_type": "markdown",
   "metadata": {},
   "source": [
    "# Extract Data"
   ]
  },
  {
   "cell_type": "markdown",
   "metadata": {},
   "source": [
    "### Extract Coronavirus (nCOV19) data"
   ]
  },
  {
   "cell_type": "code",
   "execution_count": null,
   "metadata": {},
   "outputs": [],
   "source": [
    "# Reading Coronavirus data downloaded from Kaggle\n",
    "nCov19_df = pd.read_csv('./Resources/2019_nCoV_data.csv')\n",
    "\n",
    "# Check dataframe\n",
    "nCov19_df.head()"
   ]
  },
  {
   "cell_type": "code",
   "execution_count": null,
   "metadata": {},
   "outputs": [],
   "source": [
    "# Check data type\n",
    "nCov19_df.dtypes"
   ]
  },
  {
   "cell_type": "code",
   "execution_count": null,
   "metadata": {},
   "outputs": [],
   "source": [
    "# Getting a summary\n",
    "nCov19_df.describe()"
   ]
  },
  {
   "cell_type": "code",
   "execution_count": null,
   "metadata": {},
   "outputs": [],
   "source": [
    "# Checking number of rows, grouped by country\n",
    "country_ncov19_df = nCov19_df.groupby('Country')\n",
    "country_ncov19_df['Sno'].count()"
   ]
  },
  {
   "cell_type": "markdown",
   "metadata": {},
   "source": [
    "### Extract SARS Outbreak data"
   ]
  },
  {
   "cell_type": "code",
   "execution_count": null,
   "metadata": {},
   "outputs": [],
   "source": [
    "# Reading SARS outbreak data downloaded from Kaggle\n",
    "\n",
    "\n",
    "# Check dataframe\n"
   ]
  },
  {
   "cell_type": "markdown",
   "metadata": {},
   "source": [
    "# Transform Data"
   ]
  },
  {
   "cell_type": "markdown",
   "metadata": {},
   "source": [
    "### Getting a standardized country list"
   ]
  },
  {
   "cell_type": "code",
   "execution_count": null,
   "metadata": {},
   "outputs": [],
   "source": [
    "### Importing country list using pycountry and creating a dataframe for later use\n",
    "pycntrylst = list(pycountry.countries)\n",
    "name = []\n",
    "common_name = []\n",
    "official_name = []\n",
    "    \n",
    "for i in pycntrylst:\n",
    "    name.append(i.name)\n",
    "    if hasattr(i, \"common_name\"):\n",
    "        common_name.append(i.common_name)\n",
    "    else:\n",
    "        common_name.append(\"\")\n",
    "    if hasattr(i, \"official_name\"):\n",
    "        official_name.append(i.official_name)\n",
    "    else:\n",
    "        official_name.append(\"\")\n",
    "\n",
    "# Check list\n",
    "name"
   ]
  },
  {
   "cell_type": "markdown",
   "metadata": {},
   "source": [
    "### Creating a function to identify invalid country names"
   ]
  },
  {
   "cell_type": "code",
   "execution_count": null,
   "metadata": {},
   "outputs": [],
   "source": [
    "def country_name_check(input_country_list):\n",
    "    invalid_countrynames =[]\n",
    "    for j in input_country_list:\n",
    "        if j not in (name):\n",
    "            invalid_countrynames.append(j)\n",
    "    invalid_countrynames = list(set(invalid_countrynames))\n",
    "    return invalid_countrynames"
   ]
  },
  {
   "cell_type": "markdown",
   "metadata": {},
   "source": [
    "### Creating a function to convert the invalid names to standard names to reduce manual comparison"
   ]
  },
  {
   "cell_type": "code",
   "execution_count": null,
   "metadata": {},
   "outputs": [],
   "source": [
    "def convert_name(invalid_countrynames):\n",
    "    standard_names = coco.convert(names=invalid_countrynames, to='name_short')\n",
    "    return standard_names"
   ]
  },
  {
   "cell_type": "markdown",
   "metadata": {},
   "source": [
    "## Clean, standardize, and organize nCOV19 data"
   ]
  },
  {
   "cell_type": "code",
   "execution_count": null,
   "metadata": {},
   "outputs": [],
   "source": [
    "print(\"This is the list of invalid names: \")\n",
    "\n",
    "# run the country name check function to identify invalid country names/labels\n",
    "country_name_check(nCov19_df.Country)"
   ]
  },
  {
   "cell_type": "code",
   "execution_count": null,
   "metadata": {},
   "outputs": [],
   "source": [
    "print(\"This is an option that can be matched to the standardized list: \")\n",
    "\n",
    "# copy the invalid list and run the convert_name function to find alternative OR refer to the \"name\" list\n",
    "invalid_list_ncov19 = ['Russia',\n",
    " 'Mainland China',\n",
    " 'Macau',\n",
    " 'Taiwan',\n",
    " 'Ivory Coast',\n",
    " 'Others',\n",
    " 'Vietnam',\n",
    " 'US',\n",
    " 'UK',\n",
    " 'South Korea']\n",
    "\n",
    "convert_name(invalid_list_ncov19)"
   ]
  },
  {
   "cell_type": "code",
   "execution_count": null,
   "metadata": {},
   "outputs": [],
   "source": [
    "# rename the invalid names to the standardize list"
   ]
  },
  {
   "cell_type": "code",
   "execution_count": null,
   "metadata": {},
   "outputs": [],
   "source": [
    "# drop data without any country information"
   ]
  },
  {
   "cell_type": "code",
   "execution_count": null,
   "metadata": {},
   "outputs": [],
   "source": [
    "# aggregate and sum the number of confirmed cases, deaths, and recoveries"
   ]
  },
  {
   "cell_type": "markdown",
   "metadata": {},
   "source": [
    "## Clean, standardize, and organize SARS outbreak data"
   ]
  },
  {
   "cell_type": "code",
   "execution_count": null,
   "metadata": {},
   "outputs": [],
   "source": [
    "print(\"This is the list of invalid names: \")\n",
    "\n",
    "# run the country name check function to identify invalid country names/labels\n"
   ]
  },
  {
   "cell_type": "code",
   "execution_count": null,
   "metadata": {},
   "outputs": [],
   "source": [
    "print(\"This is an option that can be matched to the standardized list: \")\n",
    "\n",
    "# copy the invalid list and run the convert_name function to find alternative OR refer to the \"name\" list\n",
    "invalid_list_sars = \n",
    "\n",
    "convert_name(invalid_list_sars)"
   ]
  },
  {
   "cell_type": "code",
   "execution_count": null,
   "metadata": {},
   "outputs": [],
   "source": [
    "# rename the invalid names to the standardize list"
   ]
  },
  {
   "cell_type": "code",
   "execution_count": null,
   "metadata": {},
   "outputs": [],
   "source": [
    "# drop data without any country information"
   ]
  },
  {
   "cell_type": "code",
   "execution_count": null,
   "metadata": {},
   "outputs": [],
   "source": [
    "# aggregate and sum the number of confirmed cases, deaths, and recoveries"
   ]
  },
  {
   "cell_type": "markdown",
   "metadata": {},
   "source": [
    "# Load data"
   ]
  },
  {
   "cell_type": "code",
   "execution_count": null,
   "metadata": {},
   "outputs": [],
   "source": [
    "# create connection\n",
    "rds_connection_string = \"<insert user name>:<insert password>@localhost:5432/sars_ncov19_db\"\n",
    "engine = create_engine(f'postgresql://{rds_connection_string}')"
   ]
  },
  {
   "cell_type": "code",
   "execution_count": null,
   "metadata": {},
   "outputs": [],
   "source": [
    "# check for tables\n",
    "engine.table_names()"
   ]
  },
  {
   "cell_type": "code",
   "execution_count": null,
   "metadata": {},
   "outputs": [],
   "source": [
    "# Load nCov19 dataframe into database\n",
    "\n",
    "\n",
    "\n",
    "# Confirm data has been added by querying the nCOV19 table\n",
    "\n"
   ]
  },
  {
   "cell_type": "code",
   "execution_count": null,
   "metadata": {},
   "outputs": [],
   "source": [
    "# Load SARS outbreak dataframe into database\n",
    "\n",
    "\n",
    "\n",
    "# Confirm data has been added by querying the SARS outbreak table"
   ]
  }
 ],
 "metadata": {
  "kernelspec": {
   "display_name": "Python 3.6.9 64-bit ('PythonData': conda)",
   "language": "python",
   "name": "python36964bitpythondataconda36cd9b4564184cbfbd417239c654f63a"
  },
  "language_info": {
   "codemirror_mode": {
    "name": "ipython",
    "version": 3
   },
   "file_extension": ".py",
   "mimetype": "text/x-python",
   "name": "python",
   "nbconvert_exporter": "python",
   "pygments_lexer": "ipython3",
   "version": "3.6.9"
  }
 },
 "nbformat": 4,
 "nbformat_minor": 2
}
