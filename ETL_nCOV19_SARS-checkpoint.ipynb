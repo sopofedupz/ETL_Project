{
 "cells": [
  {
   "cell_type": "code",
   "execution_count": null,
   "metadata": {},
   "outputs": [],
   "source": [
    "# Dependencies; add others as needed\n",
    "from config import username, password\n",
    "import pycountry # please install this dependency\n",
    "import country_converter as coco # please install this dependency\n",
    "import pandas as pd\n",
    "from sqlalchemy import create_engine"
   ]
  },
  {
   "cell_type": "markdown",
   "metadata": {},
   "source": [
    "# Extract Data"
   ]
  },
  {
   "cell_type": "markdown",
   "metadata": {},
   "source": [
    "### Extract Coronavirus (nCOV19) data"
   ]
  },
  {
   "cell_type": "code",
   "execution_count": null,
   "metadata": {},
   "outputs": [],
   "source": [
    "# Reading Coronavirus data downloaded from Kaggle\n",
    "nCov19_df = pd.read_csv('./Resources/2019_nCoV_data.csv')\n",
    "\n",
    "# Check dataframe\n",
    "nCov19_df.head()"
   ]
  },
  {
   "cell_type": "code",
   "execution_count": null,
   "metadata": {},
   "outputs": [],
   "source": [
    "# Check data type\n",
    "nCov19_df.dtypes"
   ]
  },
  {
   "cell_type": "code",
   "execution_count": null,
   "metadata": {},
   "outputs": [],
   "source": [
    "# Getting a summary\n",
    "nCov19_df.describe()"
   ]
  },
  {
   "cell_type": "code",
   "execution_count": null,
   "metadata": {},
   "outputs": [],
   "source": [
    "# Checking number of rows, grouped by country\n",
    "country_ncov19_df = nCov19_df.groupby('Country')\n",
    "country_ncov19_df['Sno'].count()"
   ]
  },
  {
   "cell_type": "markdown",
   "metadata": {},
   "source": [
    "### Extract SARS Outbreak data"
   ]
  },
  {
   "cell_type": "code",
   "execution_count": null,
   "metadata": {},
   "outputs": [],
   "source": [
    "# Reading SARS outbreak data downloaded from Kaggle\n",
    "original_sars03_df = pd.read_csv('./Resources/sars_2003_complete_dataset_clean.csv')\n",
    "\n",
    "sars03_df = original_sars03_df.rename(columns={'Country':'country',\n",
    "                                               'Cumulative number of case(s)':'confirmed_sars', \n",
    "                                               'Number of deaths':'deaths_sars', \n",
    "                                               'Number recovered': 'recovered_sars'}).copy()\n",
    "                                 \n",
    "# Check dataframe\n",
    "sars03_df.head()"
   ]
  },
  {
   "cell_type": "markdown",
   "metadata": {},
   "source": [
    "### Getting a standardized country list"
   ]
  },
  {
   "cell_type": "code",
   "execution_count": null,
   "metadata": {},
   "outputs": [],
   "source": [
    "### Importing country list using pycountry and creating a dataframe for later use\n",
    "pycntrylst = list(pycountry.countries)\n",
    "name = []\n",
    "common_name = []\n",
    "official_name = []\n",
    "    \n",
    "for i in pycntrylst:\n",
    "    name.append(i.name)\n",
    "    if hasattr(i, \"common_name\"):\n",
    "        common_name.append(i.common_name)\n",
    "    else:\n",
    "        common_name.append(\"\")\n",
    "    if hasattr(i, \"official_name\"):\n",
    "        official_name.append(i.official_name)\n",
    "    else:\n",
    "        official_name.append(\"\")\n",
    "\n",
    "# Check list\n",
    "name"
   ]
  },
  {
   "cell_type": "markdown",
   "metadata": {},
   "source": [
    "### Creating a function to identify invalid country names"
   ]
  },
  {
   "cell_type": "code",
   "execution_count": null,
   "metadata": {},
   "outputs": [],
   "source": [
    "def country_name_check(input_country_list):\n",
    "    invalid_countrynames =[]\n",
    "    for j in input_country_list:\n",
    "        if j not in (name):\n",
    "            invalid_countrynames.append(j)\n",
    "    invalid_countrynames = list(set(invalid_countrynames))\n",
    "    return invalid_countrynames"
   ]
  },
  {
   "cell_type": "markdown",
   "metadata": {},
   "source": [
    "# Transform Data"
   ]
  },
  {
   "cell_type": "markdown",
   "metadata": {},
   "source": [
    "### Clean, standardize, and organize nCOV19 data"
   ]
  },
  {
   "cell_type": "code",
   "execution_count": null,
   "metadata": {},
   "outputs": [],
   "source": [
    "print(\"This is the list of invalid names: \")\n",
    "\n",
    "# run the country name check function to identify invalid country names/labels\n",
    "country_name_check(nCov19_df.Country)"
   ]
  },
  {
   "cell_type": "code",
   "execution_count": null,
   "metadata": {},
   "outputs": [],
   "source": [
    "# rename the invalid names to the standardize list\n",
    "updated_nCov19_df = nCov19_df.replace({'Country': {\"Russia\": \"Russian Federation\", \"Mainland China\": \"China\",\n",
    "                                                  \"Macau\":\"Macao\",\"Taiwan\":\"Taiwan, Province of China\",\n",
    "                                                  \"Ivory Coast\":\"Côte d'Ivoire\", \"Vietnam\":\"Viet Nam\",\n",
    "                                                  \"US\":\"United States\", \"UK\":\"United Kingdom\",\n",
    "                                                  \"South Korea\":\"Korea, Republic of\"}})"
   ]
  },
  {
   "cell_type": "code",
   "execution_count": null,
   "metadata": {},
   "outputs": [],
   "source": [
    "# running country name check function again to make sure names are correctly renamed/replaced\n",
    "country_name_check(updated_nCov19_df.Country)"
   ]
  },
  {
   "cell_type": "code",
   "execution_count": null,
   "metadata": {
    "scrolled": true
   },
   "outputs": [],
   "source": [
    "# show larger dataframe\n",
    "pd.set_option('display.max_rows', 500)\n",
    "\n",
    "# perform a quick check on the country names\n",
    "updated_nCov19_df.groupby(['Province/State','Country']).count()"
   ]
  },
  {
   "cell_type": "code",
   "execution_count": null,
   "metadata": {
    "scrolled": true
   },
   "outputs": [],
   "source": [
    "# based on the quick check, Hong Kong, Macao and Taiwan and grouped into China in one instance each\n",
    "# rename country of these instances to their respective countries\n",
    "\n",
    "# Hong Kong\n",
    "updated_nCov19_df.loc[updated_nCov19_df['Province/State'] == 'Hong Kong', 'Country'] = \"Hong Kong\"\n",
    "\n",
    "# Macao\n",
    "updated_nCov19_df.loc[updated_nCov19_df['Province/State'] == 'Macau', 'Country'] = \"Macao\"\n",
    "\n",
    "# Taiwan\n",
    "updated_nCov19_df.loc[updated_nCov19_df['Province/State'] == 'Taiwan', 'Country'] = \"Taiwan, Province of China\"\n",
    "\n",
    "# perform a quick check on the country names\n",
    "updated_nCov19_df.groupby(['Province/State','Country']).count()"
   ]
  },
  {
   "cell_type": "code",
   "execution_count": null,
   "metadata": {},
   "outputs": [],
   "source": [
    "# copy dataframe\n",
    "nCov19_df_subset = updated_nCov19_df[['Country', 'Date', 'Confirmed', 'Deaths', 'Recovered']].copy()\n",
    "\n",
    "# aggregate and sum the number of confirmed cases, deaths, and recoveries\n",
    "nCov19_df_subset = nCov19_df_subset.groupby(['Country','Date']).sum()\n",
    "nCov19_df_subset.reset_index(inplace = True)"
   ]
  },
  {
   "cell_type": "code",
   "execution_count": null,
   "metadata": {},
   "outputs": [],
   "source": [
    "# aggregate by country and get the last value\n",
    "nCov19_df_subset = nCov19_df_subset.sort_values(by=['Country','Date'])\n",
    "final_nCov19_df = nCov19_df_subset.groupby('Country').last()\n",
    "final_nCov19_df.reset_index(inplace = True)\n",
    "\n",
    "# remove date column\n",
    "final_nCov19_df = final_nCov19_df.drop(columns='Date')\n",
    "\n",
    "# rename columns\n",
    "final_nCov19_df = final_nCov19_df.rename(columns = {'Country':'country',\n",
    "                                                    'Confirmed':'confirmed_ncov','Deaths':'deaths_ncov',\n",
    "                                                    'Recovered':'recovered_ncov'})\n",
    "final_nCov19_df.head()"
   ]
  },
  {
   "cell_type": "markdown",
   "metadata": {},
   "source": [
    "## Clean, standardize, and organize SARS outbreak data"
   ]
  },
  {
   "cell_type": "code",
   "execution_count": null,
   "metadata": {},
   "outputs": [],
   "source": [
    "print(\"This is the list of invalid names: \")\n",
    "\n",
    "# run the country name check function to identify invalid country names/labels\n",
    "country_name_check(sars03_df.country)"
   ]
  },
  {
   "cell_type": "code",
   "execution_count": null,
   "metadata": {},
   "outputs": [],
   "source": [
    "# rename the invalid names to the standardize list\n",
    "updated_sars03_df = sars03_df.replace({'country': {'Taiwan, China':'Taiwan, Province of China',\n",
    "                                                  'Macao SAR, China':'Macao',\n",
    "                                                  'Hong Kong SAR, China':'Hong Kong',\n",
    "                                                  'Republic of Ireland':'Ireland',\n",
    "                                                  'Republic of Korea':'Korea, Republic of'}})"
   ]
  },
  {
   "cell_type": "code",
   "execution_count": null,
   "metadata": {},
   "outputs": [],
   "source": [
    "# running country name check function again to make sure names are correctly renamed/replaced\n",
    "country_name_check(updated_sars03_df.country)"
   ]
  },
  {
   "cell_type": "code",
   "execution_count": null,
   "metadata": {},
   "outputs": [],
   "source": [
    "# perform a quick check on the country names\n",
    "updated_sars03_df.groupby('country').count()"
   ]
  },
  {
   "cell_type": "code",
   "execution_count": null,
   "metadata": {},
   "outputs": [],
   "source": [
    "# aggregate and sum the number of confirmed cases, deaths, and recoveries\n",
    "aggregate_by_date_sars03 = updated_sars03_df.groupby(['Date','country']).sum().reset_index('country')\n",
    "aggregate_by_date_sars03"
   ]
  },
  {
   "cell_type": "code",
   "execution_count": null,
   "metadata": {},
   "outputs": [],
   "source": [
    "# find the last date in the DataFrame.\n",
    "index_date_sars03 = aggregate_by_date_sars03.reset_index()\n",
    "last_date_sars03 = index_date_sars03['Date'].max()\n",
    "\n",
    "# filter DataFrame by the last date in the 'Date' column.\n",
    "final_table_sars03 = aggregate_by_date_sars03.loc[last_date_sars03].reset_index()\\\n",
    "                                                                    .drop(['Date'], axis=1)\\\n",
    "                                                                    .sort_values(['country'], ascending=True)"
   ]
  },
  {
   "cell_type": "markdown",
   "metadata": {},
   "source": [
    "# Load data"
   ]
  },
  {
   "cell_type": "code",
   "execution_count": null,
   "metadata": {},
   "outputs": [],
   "source": [
    "# create connection\n",
    "rds_connection_string = f\"{username}:{password}@localhost:5432/sars_ncov19_db\"\n",
    "engine = create_engine(f'postgresql://{rds_connection_string}')"
   ]
  },
  {
   "cell_type": "code",
   "execution_count": null,
   "metadata": {},
   "outputs": [],
   "source": [
    "# check for tables\n",
    "engine.table_names()"
   ]
  },
  {
   "cell_type": "code",
   "execution_count": null,
   "metadata": {},
   "outputs": [],
   "source": [
    "# Load nCov19 dataframe into database\n",
    "final_nCov19_df.to_sql(name='ncov19_data', con=engine, if_exists='append', index=False)\n",
    "\n",
    "# Confirm data has been added by querying the nCOV19 table\n",
    "pd.read_sql_query('select * from ncov19_data', con=engine).head()"
   ]
  },
  {
   "cell_type": "code",
   "execution_count": null,
   "metadata": {},
   "outputs": [],
   "source": [
    "# Load SARS outbreak dataframe into database\n",
    "final_table_sars03.to_sql(name='sars03_data', con=engine, if_exists='append', index=False)\n",
    "\n",
    "# Confirm data has been added by querying the SARS outbreak table\n",
    "pd.read_sql_query('select * from sars03_data', con=engine).head()"
   ]
  }
 ],
 "metadata": {
  "kernelspec": {
   "display_name": "Python 3",
   "language": "python",
   "name": "python3"
  },
  "language_info": {
   "codemirror_mode": {
    "name": "ipython",
    "version": 3
   },
   "file_extension": ".py",
   "mimetype": "text/x-python",
   "name": "python",
   "nbconvert_exporter": "python",
   "pygments_lexer": "ipython3",
   "version": "3.6.9"
  }
 },
 "nbformat": 4,
 "nbformat_minor": 2
}
